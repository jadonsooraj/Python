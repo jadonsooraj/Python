{
 "cells": [
  {
   "cell_type": "code",
   "execution_count": 2,
   "id": "6c84fea6",
   "metadata": {},
   "outputs": [],
   "source": [
    "import numpy as np"
   ]
  },
  {
   "cell_type": "markdown",
   "id": "be46d15c",
   "metadata": {},
   "source": [
    "### Create Array using:\n",
    "- **list** \n",
    "- **arange()** : Create an Array of evenly spaced values. \n",
    "    ```python\n",
    "        np.arange(start,stop,step)\n",
    "    ```  \n",
    "- **linspace()** : Create an Array of evenly spaces values in a specific range given. Unlike arrange() which generates evenly space values witha defined steps, whereas linespace() divides range in eaqal portions. \n",
    "    ```python\n",
    "        np.linspace(start,stop,num=10, endpoint = True)\n",
    "    ```\n",
    "- **zeros()** : Creates an Array of zeroes.\n",
    "    ```python\n",
    "        np.zeros(dimension)\n",
    "    ```\n",
    "- **ones()** : Creates an Array of ones.\n",
    "    ```python\n",
    "        np.ones(dimension)\n",
    "- **empty()** : Create a new array of a given shape and data type, without initializing the entries.\n",
    "    ```python\n",
    "        np.empty(shape, dtype = float)\n",
    "    ```\n",
    "- **full()**: Creates a new array of given dimension and default value.\n",
    "    ```python\n",
    "        np.full(shape, fill_value, dtype = None)\n",
    "    ```\n",
    "- **eye()**: Creates a 2D array with ones on the diagonal and zeros elsewhere.\n",
    "    ```python\n",
    "        np.eye(3)\n",
    "    ```"
   ]
  },
  {
   "cell_type": "code",
   "execution_count": 31,
   "id": "057e842b",
   "metadata": {},
   "outputs": [
    {
     "name": "stdout",
     "output_type": "stream",
     "text": [
      "Array using list: [2 3 4]\n",
      "Array using arrange(): [0 2 4 6 8]\n",
      "Array using linspace(): [ 1  2  3  4  5  6  7  8  9 10]\n",
      "Array using zeros(): [0 0 0 0 0]\n",
      "Array using ones(): [1 1 1 1 1]\n",
      "Array using empty(): [1 1 1 1 1]\n",
      "Array using full(): [12 12 12 12 12]\n",
      "Identity matrix using eye():\n",
      "[[1 0 0]\n",
      " [0 1 0]\n",
      " [0 0 1]]\n"
     ]
    }
   ],
   "source": [
    "ls=[2,3,4]\n",
    "arr1=np.array(ls)\n",
    "print(f'Array using list: {arr1}')\n",
    "\n",
    "arr2=np.arange(0,10,2)\n",
    "print(f'Array using arrange(): {arr2}')\n",
    "\n",
    "arr3=np.linspace(1,10,num=10,endpoint=True)\n",
    "print(f'Array using linspace(): {arr3.astype(int)}')\n",
    "\n",
    "arr4=np.zeros(5)\n",
    "print(f'Array using zeros(): {arr4.astype(int)}')\n",
    "\n",
    "arr5=np.ones(5)\n",
    "print(f'Array using ones(): {arr5.astype(int)}')\n",
    "\n",
    "arr6=np.empty(5,dtype=int)\n",
    "print(f'Array using empty(): {arr6}')\n",
    "\n",
    "arr7=np.full(5,12,dtype=int)\n",
    "print(f'Array using full(): {arr7}')\n",
    "\n",
    "print(f'Identity matrix using eye():\\n{np.eye(3,dtype=int)}')"
   ]
  },
  {
   "cell_type": "markdown",
   "id": "ac51ae36",
   "metadata": {},
   "source": [
    "### Reshape an array: "
   ]
  },
  {
   "cell_type": "code",
   "execution_count": 28,
   "id": "a13e5719",
   "metadata": {},
   "outputs": [
    {
     "name": "stdout",
     "output_type": "stream",
     "text": [
      "Array : [ 1  2  3  4  5  6  7  8  9 10 11 12 13 14 15 16]\n",
      "First Reshaped Array : with M: 4 and N: 4\n",
      "[[ 1  2  3  4]\n",
      " [ 5  6  7  8]\n",
      " [ 9 10 11 12]\n",
      " [13 14 15 16]]\n",
      "Second Reshaped Array : \n",
      "[[ 1  2  3  4  5  6  7  8]\n",
      " [ 9 10 11 12 13 14 15 16]]\n"
     ]
    }
   ],
   "source": [
    "# create 1D array\n",
    "arr_reshape = np.array([1, 2, 3, 4, 5, 6, 7, 8, 9, 10, 11, 12, 13, 14, 15, 16])\n",
    "\n",
    "print(\"Array : \" + str(arr_reshape))\n",
    "\n",
    "# length of array\n",
    "n = arr_reshape.size\n",
    "\n",
    "# N-D array N dimension\n",
    "N = 4\n",
    "\n",
    "# calculating M\n",
    "M = n//N\n",
    "\n",
    "# converting it to 2-D from 1-D array\n",
    "reshaped1 = arr_reshape.reshape((N, M))\n",
    "\n",
    "# printing reshaped array\n",
    "print(f\"First Reshaped Array : with M: {M} and N: {N}\")\n",
    "print(reshaped1)\n",
    "\n",
    "# creating another reshaped array\n",
    "reshaped2 = np.reshape(arr_reshape, (2, 8))\n",
    "\n",
    "# printing reshaped array\n",
    "print(\"Second Reshaped Array : \")\n",
    "print(reshaped2)"
   ]
  },
  {
   "cell_type": "markdown",
   "id": "f4474429",
   "metadata": {},
   "source": [
    "### Statistical function in numpy:\n",
    "np.fun(arr)\n",
    "\n",
    "### Dot Product\n",
    "np.dot(arr1,arr2)"
   ]
  }
 ],
 "metadata": {
  "kernelspec": {
   "display_name": "venv",
   "language": "python",
   "name": "python3"
  },
  "language_info": {
   "codemirror_mode": {
    "name": "ipython",
    "version": 3
   },
   "file_extension": ".py",
   "mimetype": "text/x-python",
   "name": "python",
   "nbconvert_exporter": "python",
   "pygments_lexer": "ipython3",
   "version": "3.11.9"
  }
 },
 "nbformat": 4,
 "nbformat_minor": 5
}
