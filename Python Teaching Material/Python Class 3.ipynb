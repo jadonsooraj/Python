{
 "cells": [
  {
   "cell_type": "markdown",
   "id": "327e2ea2",
   "metadata": {},
   "source": [
    "# Conditional Statements\n"
   ]
  },
  {
   "cell_type": "markdown",
   "id": "087695e6",
   "metadata": {},
   "source": [
    "* ***if***\n",
    "* ***elif***\n",
    "* ***else***"
   ]
  },
  {
   "cell_type": "code",
   "execution_count": 2,
   "id": "ea3d566e",
   "metadata": {},
   "outputs": [
    {
     "name": "stdout",
     "output_type": "stream",
     "text": [
      "Enter number: 3\n",
      "Sahi hai\n"
     ]
    }
   ],
   "source": [
    "#take input from user and tell that its less than 10 or not\n",
    "\n",
    "x=int(input(\"Enter number: \"))\n",
    "if x<10:\n",
    "    print(\"Sahi hai\")\n",
    "else:\n",
    "    print(\"Galat hai\")"
   ]
  },
  {
   "cell_type": "code",
   "execution_count": 10,
   "id": "bf4b9151",
   "metadata": {},
   "outputs": [
    {
     "name": "stdout",
     "output_type": "stream",
     "text": [
      "Enter number: 0\n",
      "Number is Zero\n"
     ]
    }
   ],
   "source": [
    "# Write a program to take input from user to tell whether the number is +ve, -ve,or 0\n",
    "x=int(input(\"Enter number: \"))\n",
    "\n",
    "if x<0:\n",
    "    print(\"number is negative\")\n",
    "elif x==0:\n",
    "    print(\"Number is Zero\")\n",
    "else:\n",
    "    print(\"number is positive\")"
   ]
  },
  {
   "cell_type": "code",
   "execution_count": 12,
   "id": "1eff96bf",
   "metadata": {},
   "outputs": [
    {
     "name": "stdout",
     "output_type": "stream",
     "text": [
      "Enter number: 4\n",
      "Even number\n"
     ]
    }
   ],
   "source": [
    "# Write a program to take input from the user and to tell whether the number is even or odd\n",
    "x=int(input(\"Enter number: \"))\n",
    "\n",
    "if x%2==0:\n",
    "    print(\"Even number\")\n",
    "else:\n",
    "    print(\"Odd number\")"
   ]
  },
  {
   "cell_type": "markdown",
   "id": "71301590",
   "metadata": {},
   "source": [
    "# Lists"
   ]
  },
  {
   "cell_type": "markdown",
   "id": "87679107",
   "metadata": {},
   "source": [
    "* It is a Collection of same or different data types \n",
    "* Indexing\n",
    "* List is Secondary Data types\n",
    "* \"[ ]\" Square bracket is used for list"
   ]
  },
  {
   "cell_type": "code",
   "execution_count": 15,
   "id": "56151d24",
   "metadata": {},
   "outputs": [],
   "source": [
    "#Example of Lists\n",
    "ls1=[2,4,5,7] \n",
    "ls2=[23,\"Sooraj\",\"Singh\", 45, True] #list of mix data types"
   ]
  },
  {
   "cell_type": "markdown",
   "id": "85e47a2d",
   "metadata": {},
   "source": [
    "**Indexing in list**\n",
    "\n"
   ]
  },
  {
   "cell_type": "code",
   "execution_count": 17,
   "id": "007b7e84",
   "metadata": {},
   "outputs": [
    {
     "name": "stdout",
     "output_type": "stream",
     "text": [
      "Sooraj\n",
      "45\n"
     ]
    }
   ],
   "source": [
    "#print Sooraj from the list\n",
    "print(ls2[1])\n",
    "\n",
    "#print 45 from ls2\n",
    "print(ls2[3])\n"
   ]
  },
  {
   "cell_type": "markdown",
   "id": "dbd34961",
   "metadata": {},
   "source": [
    "<b>Slicing in list<b/>"
   ]
  },
  {
   "cell_type": "code",
   "execution_count": 22,
   "id": "3635cd51",
   "metadata": {},
   "outputs": [
    {
     "name": "stdout",
     "output_type": "stream",
     "text": [
      "['Sooraj', 'Singh', 45, True, 54, 45.7, 'Gadha']\n",
      "['Sooraj', 45, 54, 'Gadha']\n"
     ]
    }
   ],
   "source": [
    "ls3=[23,\"Sooraj\",\"Singh\", 45, True, 54, 45.7, \"Gadha\", \"Kutta\"]\n",
    "\n",
    "print(ls3[1:8])\n",
    "\n",
    "print(ls3[1:8:2])"
   ]
  },
  {
   "cell_type": "markdown",
   "id": "0c410f33",
   "metadata": {},
   "source": [
    "<b>Methods of Lists:</b>"
   ]
  },
  {
   "cell_type": "markdown",
   "id": "d0390e1a",
   "metadata": {},
   "source": [
    "* append() : to add something in a list\n",
    "* clear() : to empty a list\n",
    "* count() : to count occurances"
   ]
  },
  {
   "cell_type": "code",
   "execution_count": 32,
   "id": "fd1f0899",
   "metadata": {},
   "outputs": [
    {
     "name": "stdout",
     "output_type": "stream",
     "text": [
      "before append: [2, 5, 3, 7]\n",
      "After append: [2, 5, 3, 7, 'Sooraj', 43]\n"
     ]
    }
   ],
   "source": [
    "#Appending a list\n",
    "ls4=[2,5,3,7]\n",
    "print(\"before append:\",ls4)\n",
    "ls4.append(\"Sooraj\")\n",
    "ls4.append(43)\n",
    "\n",
    "print(\"After append:\",ls4)"
   ]
  },
  {
   "cell_type": "code",
   "execution_count": 33,
   "id": "2ba54a5d",
   "metadata": {},
   "outputs": [
    {
     "name": "stdout",
     "output_type": "stream",
     "text": [
      "[2, 5, 3, 7, 'Sooraj', 43]\n",
      "1\n"
     ]
    }
   ],
   "source": [
    "print(ls4)\n",
    "print(ls4.count(7))"
   ]
  },
  {
   "cell_type": "markdown",
   "id": "1ca55bfe",
   "metadata": {},
   "source": [
    "# Dictionary"
   ]
  },
  {
   "cell_type": "markdown",
   "id": "a6d43a78",
   "metadata": {},
   "source": [
    "* It is a Collection of same or different data types \n",
    "* It has ***keys*** and ***value***\n",
    "* Dictionary is Secondary Data types\n",
    "* \"{ }\" Square bracket is used for list"
   ]
  },
  {
   "cell_type": "code",
   "execution_count": 36,
   "id": "27bdddbe",
   "metadata": {},
   "outputs": [
    {
     "name": "stdout",
     "output_type": "stream",
     "text": [
      "Sooraj\n"
     ]
    }
   ],
   "source": [
    "# Example of Dictionary\n",
    "\n",
    "d1={\"name\":\"Sooraj\",\"Age\":23,\"Gender\":\"male\"}\n",
    "print(d1[\"name\"])"
   ]
  },
  {
   "cell_type": "code",
   "execution_count": 39,
   "id": "e094f416",
   "metadata": {},
   "outputs": [
    {
     "name": "stdout",
     "output_type": "stream",
     "text": [
      "{'name': ['Sooraj', 'Gadga', 'Maano', 'mango'], 'age': [23, 54, 67, 65]}\n"
     ]
    }
   ],
   "source": [
    "ls5=[23,54,67,65]\n",
    "ls6=[\"Sooraj\",\"Gadga\",\"Maano\",\"mango\"]\n",
    "\n",
    "d2={\"name\":ls6,\"age\":ls5}\n",
    "print(d2)"
   ]
  },
  {
   "cell_type": "markdown",
   "id": "95d653a9",
   "metadata": {},
   "source": [
    "<b>Methods of Dictionary</b>\n"
   ]
  },
  {
   "cell_type": "markdown",
   "id": "54bb06b4",
   "metadata": {},
   "source": [
    "* update() : to add something in a dictionary\n",
    "* del() : to delete something from a dictionary"
   ]
  },
  {
   "cell_type": "code",
   "execution_count": null,
   "id": "9dc93b04",
   "metadata": {},
   "outputs": [],
   "source": []
  }
 ],
 "metadata": {
  "kernelspec": {
   "display_name": "Python 3 (ipykernel)",
   "language": "python",
   "name": "python3"
  },
  "language_info": {
   "codemirror_mode": {
    "name": "ipython",
    "version": 3
   },
   "file_extension": ".py",
   "mimetype": "text/x-python",
   "name": "python",
   "nbconvert_exporter": "python",
   "pygments_lexer": "ipython3",
   "version": "3.11.5"
  }
 },
 "nbformat": 4,
 "nbformat_minor": 5
}
