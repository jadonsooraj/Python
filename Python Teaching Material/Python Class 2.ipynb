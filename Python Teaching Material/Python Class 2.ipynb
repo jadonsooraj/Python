{
 "cells": [
  {
   "cell_type": "markdown",
   "id": "a2863428",
   "metadata": {},
   "source": [
    "# Operators"
   ]
  },
  {
   "cell_type": "markdown",
   "id": "2ed4f9e9",
   "metadata": {},
   "source": [
    "1. Arthimatic operators: \n",
    "    * Addition (+)\n",
    "    * Subtraction (-)\n",
    "    * Multiplication (*)\n",
    "    * Float Division (/)\n",
    "    * Integer divisiion (//)\n",
    "2. Logical operators:\n",
    "    * Logical or (or)\n",
    "    * Logical and (and)\n",
    "    * NOT (!)\n",
    "    \n",
    "\n",
    "3. Other operators:\n",
    "    * Modulas Opertor (%)\n",
    "    * Assignment (=)\n",
    "    * Equal to (==)\n",
    "    * Not equal to (!=)\n",
    "    * Greater than (>)\n",
    "    * Less than (<)\n",
    "    * Greater than equal to (>=)\n",
    "    * Less than equal to (<=)\n"
   ]
  },
  {
   "cell_type": "markdown",
   "id": "95b8433a",
   "metadata": {},
   "source": [
    "* <b>And </b>  \n",
    "koi bhi ek false=> output= false   \n",
    "*side A* ***and*** *side B*\n",
    "|Side 1|Side 2|Output|\n",
    "|------|------|------|\n",
    "|True  |True  |True  |  \n",
    "|True  |False |False |  \n",
    "|False |True  |False |  \n",
    "|False |False |False | \n",
    "\n",
    "* <b> OR </b>  \n",
    "koi bhi ek true=> output= true  \n",
    "*side A* ***or*** *side B*\n",
    "|Side 1|Side 2|Output|\n",
    "|------|------|------|\n",
    "|True  |True  |True  |  \n",
    "|True  |False |True  |  \n",
    "|False |True  |True  |  \n",
    "|False |False |False | \n",
    "  "
   ]
  },
  {
   "cell_type": "code",
   "execution_count": 2,
   "id": "670017d6",
   "metadata": {},
   "outputs": [
    {
     "name": "stdout",
     "output_type": "stream",
     "text": [
      "Addition: 34\n",
      "Subtraction: 30\n",
      "Multiplication: 64\n",
      "Float Division: 16.0\n",
      "Integer Division: 16\n"
     ]
    }
   ],
   "source": [
    "#program to perform basic arthimatic operations\n",
    "x=32\n",
    "y=2\n",
    "ans=0\n",
    "\n",
    "#addition\n",
    "ans=x+y\n",
    "print(\"Addition:\",ans)\n",
    "\n",
    "#subtraction\n",
    "ans=x-y\n",
    "print(\"Subtraction:\",ans)\n",
    "\n",
    "#multiplication\n",
    "ans=x*y\n",
    "print(\"Multiplication:\",ans)\n",
    "\n",
    "#float division\n",
    "ans=x/y\n",
    "print(\"Float Division:\",ans)\n",
    "\n",
    "#integer division\n",
    "ans=x//y\n",
    "print(\"Integer Division:\",ans)"
   ]
  },
  {
   "cell_type": "code",
   "execution_count": 3,
   "id": "87730faa",
   "metadata": {},
   "outputs": [
    {
     "name": "stdout",
     "output_type": "stream",
     "text": [
      "value enter karo x1: 34\n",
      "value enter karo x2: 43\n",
      "\n",
      "Addition: 77\n",
      "Subtraction: -9\n",
      "Multiplication: 1462\n",
      "Float Division: 0.7906976744186046\n",
      "Integer Division: 0\n"
     ]
    }
   ],
   "source": [
    "#take two input from user and perform various operations\n",
    "x1=int(input(\"value enter karo x1: \"))\n",
    "x2=int(input(\"value enter karo x2: \"))\n",
    "\n",
    "#addition\n",
    "ans=x1+x2\n",
    "print(\"\\nAddition:\",ans)\n",
    "\n",
    "#subtraction\n",
    "ans=x1-x2\n",
    "print(\"Subtraction:\",ans)\n",
    "\n",
    "#multiplication\n",
    "ans=x1*x2\n",
    "print(\"Multiplication:\",ans)\n",
    "\n",
    "#float division\n",
    "ans=x1/x2\n",
    "print(\"Float Division:\",ans)\n",
    "\n",
    "#integer division\n",
    "ans=x1//x2\n",
    "print(\"Integer Division:\",ans)"
   ]
  },
  {
   "cell_type": "markdown",
   "id": "b31c0938",
   "metadata": {},
   "source": [
    "# Loops"
   ]
  },
  {
   "cell_type": "markdown",
   "id": "221fc5e1",
   "metadata": {},
   "source": [
    "* <b>***\"For\"*** </b>loop\n"
   ]
  },
  {
   "cell_type": "code",
   "execution_count": 4,
   "id": "15b0a401",
   "metadata": {},
   "outputs": [
    {
     "name": "stdout",
     "output_type": "stream",
     "text": [
      "Sooraj\n",
      "Hello\n",
      "Sooraj\n",
      "Hello\n",
      "Sooraj\n",
      "Hello\n"
     ]
    }
   ],
   "source": [
    "#print \"Sooraj\" 10 times\n",
    "for i in range(0,3):\n",
    "    print(\"Sooraj\")\n",
    "    print(\"Hello\")    \n",
    "    "
   ]
  },
  {
   "cell_type": "code",
   "execution_count": 5,
   "id": "58c738ab",
   "metadata": {},
   "outputs": [
    {
     "name": "stdout",
     "output_type": "stream",
     "text": [
      "b\n",
      "a\n",
      "n\n",
      "a\n",
      "n\n",
      "a\n"
     ]
    }
   ],
   "source": [
    "for i in \"banana\":\n",
    "    print(i)"
   ]
  },
  {
   "cell_type": "code",
   "execution_count": 6,
   "id": "efbd3eab",
   "metadata": {},
   "outputs": [
    {
     "name": "stdout",
     "output_type": "stream",
     "text": [
      "0\n",
      "1\n",
      "2\n"
     ]
    }
   ],
   "source": [
    "for i in range(0,3):\n",
    "    print(i)"
   ]
  },
  {
   "cell_type": "markdown",
   "id": "9b69ffa8",
   "metadata": {},
   "source": [
    "* <b>***\"While\"***</b> Loop"
   ]
  },
  {
   "cell_type": "code",
   "execution_count": 3,
   "id": "27c66889",
   "metadata": {},
   "outputs": [
    {
     "name": "stdout",
     "output_type": "stream",
     "text": [
      "Sooraj\n",
      "Sooraj\n",
      "Sooraj\n"
     ]
    }
   ],
   "source": [
    "x=0\n",
    "while(x<3):\n",
    "    print(\"Sooraj\")\n",
    "    x=x+1"
   ]
  },
  {
   "cell_type": "code",
   "execution_count": 1,
   "id": "2396785e",
   "metadata": {},
   "outputs": [
    {
     "name": "stdout",
     "output_type": "stream",
     "text": [
      "1\n",
      "2\n",
      "3\n",
      "4\n",
      "5\n",
      "6\n",
      "7\n",
      "8\n",
      "9\n"
     ]
    }
   ],
   "source": [
    "#print natrural number upto 10\n",
    "x=1\n",
    "while(x<11):\n",
    "    print(x)\n",
    "    x=x+1"
   ]
  },
  {
   "cell_type": "code",
   "execution_count": 3,
   "id": "af1c1b35",
   "metadata": {},
   "outputs": [
    {
     "name": "stdout",
     "output_type": "stream",
     "text": [
      "0\n",
      "2\n",
      "4\n",
      "6\n",
      "8\n",
      "10\n"
     ]
    }
   ],
   "source": [
    "#print all even numbers btw 0 and 10\n",
    "x=0\n",
    "while(x<12):\n",
    "    print(x)\n",
    "    x=x+2"
   ]
  },
  {
   "cell_type": "code",
   "execution_count": 1,
   "id": "4f4150da",
   "metadata": {},
   "outputs": [
    {
     "name": "stdout",
     "output_type": "stream",
     "text": [
      "55\n"
     ]
    }
   ],
   "source": [
    "#print sum of first 10 natural number\n",
    "sum=0\n",
    "x=1\n",
    "while(x<11):\n",
    "    sum=sum+x\n",
    "    x=x+1\n",
    "print(sum)    "
   ]
  },
  {
   "cell_type": "code",
   "execution_count": null,
   "id": "07d45ccc",
   "metadata": {},
   "outputs": [],
   "source": [
    "#print sum of first 20 even numbers\n",
    "#print sum of first 10 odd numbers"
   ]
  }
 ],
 "metadata": {
  "kernelspec": {
   "display_name": "Python 3 (ipykernel)",
   "language": "python",
   "name": "python3"
  },
  "language_info": {
   "codemirror_mode": {
    "name": "ipython",
    "version": 3
   },
   "file_extension": ".py",
   "mimetype": "text/x-python",
   "name": "python",
   "nbconvert_exporter": "python",
   "pygments_lexer": "ipython3",
   "version": "3.11.5"
  }
 },
 "nbformat": 4,
 "nbformat_minor": 5
}
