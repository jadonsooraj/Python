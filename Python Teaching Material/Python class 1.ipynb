{
 "cells": [
  {
   "cell_type": "markdown",
   "id": "d8d51c0d",
   "metadata": {},
   "source": [
    "# Heading 1\n",
    "## Heading 2\n",
    "### Heading 3\n",
    "#### Heading 4"
   ]
  },
  {
   "cell_type": "markdown",
   "id": "92627495",
   "metadata": {},
   "source": [
    "## print() "
   ]
  },
  {
   "cell_type": "code",
   "execution_count": 1,
   "id": "1e0370fb",
   "metadata": {},
   "outputs": [
    {
     "name": "stdout",
     "output_type": "stream",
     "text": [
      "Nancy is a cheater\n",
      "Nancy is a liar\n"
     ]
    }
   ],
   "source": [
    "print(\"Nancy is a cheater\") \n",
    "print('Nancy is a liar')"
   ]
  },
  {
   "cell_type": "code",
   "execution_count": 3,
   "id": "1c7ed1fc",
   "metadata": {},
   "outputs": [
    {
     "name": "stdout",
     "output_type": "stream",
     "text": [
      "Execute hua Nancy is a cheater"
     ]
    }
   ],
   "source": [
    "print(\"Execute hua\",end=\" Nancy is a cheater\")"
   ]
  },
  {
   "cell_type": "markdown",
   "id": "2c03c44b",
   "metadata": {},
   "source": [
    "## Data Types\n",
    "1. Integer int => 1,4-6,0\n",
    "2. float => 1.5,5.5,2.0\n",
    "3. String\n",
    "4. List\n",
    "5. Dictionary\n",
    "6. Tupple\n",
    "7. Boolean\n",
    "8. Set"
   ]
  },
  {
   "cell_type": "markdown",
   "id": "70e9df08",
   "metadata": {},
   "source": [
    "## 1. Integer and Float "
   ]
  },
  {
   "cell_type": "code",
   "execution_count": 4,
   "id": "dc0d93d4",
   "metadata": {},
   "outputs": [
    {
     "name": "stdout",
     "output_type": "stream",
     "text": [
      "3+4\n"
     ]
    }
   ],
   "source": [
    "print(\"3+4\")"
   ]
  },
  {
   "cell_type": "code",
   "execution_count": 5,
   "id": "17027946",
   "metadata": {},
   "outputs": [
    {
     "name": "stdout",
     "output_type": "stream",
     "text": [
      "7\n"
     ]
    }
   ],
   "source": [
    "print(3+4)"
   ]
  },
  {
   "cell_type": "code",
   "execution_count": null,
   "id": "f8a0b45c",
   "metadata": {},
   "outputs": [
    {
     "name": "stdout",
     "output_type": "stream",
     "text": [
      "Value daalo: 1\n"
     ]
    }
   ],
   "source": [
    "naam1=int(input(\"Value daalo: \"))\n",
    "naam2=13\n",
    "naam1=34\n",
    "answer=naam1+naam2\n",
    "print(answer)"
   ]
  },
  {
   "cell_type": "markdown",
   "id": "5730896e",
   "metadata": {},
   "source": [
    "### type()"
   ]
  },
  {
   "cell_type": "code",
   "execution_count": 14,
   "id": "b13adc7f",
   "metadata": {},
   "outputs": [
    {
     "name": "stdout",
     "output_type": "stream",
     "text": [
      "<class 'int'>\n",
      "<class 'float'>\n",
      "<class 'int'>\n",
      "<class 'float'>\n",
      "<class 'int'>\n"
     ]
    }
   ],
   "source": [
    "print(type(2))\n",
    "print(type(2.0))\n",
    "print(type(2))\n",
    "print(type(-0.52))\n",
    "print(type(-2))\n"
   ]
  },
  {
   "cell_type": "markdown",
   "id": "6e273b9f",
   "metadata": {},
   "source": [
    "## 3. Strings  \n",
    "* strings are immutable in python, ie the cannot be changed\n",
    "* Indexing hoti hai"
   ]
  },
  {
   "cell_type": "code",
   "execution_count": 1,
   "id": "aac3728c",
   "metadata": {},
   "outputs": [
    {
     "name": "stdout",
     "output_type": "stream",
     "text": [
      "Sooraj\n",
      " Singh\n",
      "Sooraj Singh\n"
     ]
    }
   ],
   "source": [
    "str1=\"Vishal\"\n",
    "str2=\" Singh\"\n",
    "str3=str1+str2\n",
    "print(str1)\n",
    "print(str2)\n",
    "print(str3)\n"
   ]
  },
  {
   "cell_type": "code",
   "execution_count": 4,
   "id": "880ffaa7",
   "metadata": {},
   "outputs": [
    {
     "name": "stdout",
     "output_type": "stream",
     "text": [
      "SoorajSingh\n"
     ]
    }
   ],
   "source": [
    "#String appending\n",
    "str1=\"Sooraj\"\n",
    "str2=\"Singh\"\n",
    "str1=str1+str2\n",
    "print(str1)"
   ]
  },
  {
   "cell_type": "code",
   "execution_count": 6,
   "id": "97c0e552",
   "metadata": {},
   "outputs": [
    {
     "name": "stdout",
     "output_type": "stream",
     "text": [
      "20\n"
     ]
    }
   ],
   "source": [
    "#Indexing\n",
    "#length of string\n",
    "str3=\"Sooraj is a good boy\" #indexing 0:19\n",
    "length=len(str3)\n",
    "print(length)"
   ]
  },
  {
   "cell_type": "code",
   "execution_count": 8,
   "id": "d105e6c9",
   "metadata": {},
   "outputs": [
    {
     "name": "stdout",
     "output_type": "stream",
     "text": [
      "j\n",
      "g\n"
     ]
    }
   ],
   "source": [
    "#Indexing\n",
    "#print karwao \"j\"\n",
    "print(str3[5])\n",
    "\n",
    "#print krwao \"g\"\n",
    "print(str3[12])"
   ]
  },
  {
   "cell_type": "code",
   "execution_count": 12,
   "id": "f8241768",
   "metadata": {},
   "outputs": [
    {
     "name": "stdout",
     "output_type": "stream",
     "text": [
      "Sooraj\n",
      "Sooraj is a\n",
      "raj\n"
     ]
    }
   ],
   "source": [
    "#slicing\n",
    "# Q1. print krwao \"Sooraj\" \n",
    "print(str3[0:6])\n",
    "\n",
    "# Q2. print krwao \"Sooraj is a\"\n",
    "print(str3[0:11])\n",
    "\n",
    "# Q3. print krwao \"raj\"\n",
    "print(str3[3:6])"
   ]
  },
  {
   "cell_type": "markdown",
   "id": "516f37cb",
   "metadata": {},
   "source": [
    "<b>Methods of strings"
   ]
  },
  {
   "cell_type": "markdown",
   "id": "095fd142",
   "metadata": {},
   "source": [
    "1. upper() : convert string into uppercase\n",
    "2. lower() : convert string into lowercase\n",
    "3. find() : to find something in a string, it returns the index\n",
    "4. count() : \n",
    "5. len() :\n",
    "6. split() :\n",
    "7. isalpha() : string me sab kuch alphabet hoga=> TRUE else FALSE\n",
    "8. isupper() : string me sab kuch UPPERCASE hoga=> TRUE else FALSE\n",
    "9. islower() : string me sab kuch LOWERCASE hoga=> TRUE else FALSE\n",
    "\n"
   ]
  },
  {
   "cell_type": "code",
   "execution_count": 22,
   "id": "62bc03bc",
   "metadata": {},
   "outputs": [
    {
     "name": "stdout",
     "output_type": "stream",
     "text": [
      "SOORAJ IS A GOOD BOY\n",
      "sooraj is a good boy\n",
      "20\n"
     ]
    }
   ],
   "source": [
    "print(str3.upper())\n",
    "print(str3.lower())\n",
    "\n",
    "print(len(str3))\n",
    "\n"
   ]
  },
  {
   "cell_type": "code",
   "execution_count": 29,
   "id": "514e81dc",
   "metadata": {},
   "outputs": [
    {
     "name": "stdout",
     "output_type": "stream",
     "text": [
      "-1\n",
      "17\n",
      "-1\n",
      "1\n",
      "-1\n"
     ]
    }
   ],
   "source": [
    "#find method in str3=\"Sooraj is a good boy\"\n",
    "print(str3.find(\"singh\"))\n",
    "print(str3.find(\"boy\"))\n",
    "print(str3.find(\"good girl\"))\n",
    "print(str3.find(\"oo\"))\n",
    "print(str3.find(\"ob\"))"
   ]
  },
  {
   "cell_type": "code",
   "execution_count": 32,
   "id": "10644027",
   "metadata": {},
   "outputs": [
    {
     "name": "stdout",
     "output_type": "stream",
     "text": [
      "Sooraj is a good boy\n",
      "False\n"
     ]
    }
   ],
   "source": [
    "print(str3)\n",
    "print(str3.isupper())"
   ]
  },
  {
   "cell_type": "code",
   "execution_count": 1,
   "id": "10447cf7",
   "metadata": {},
   "outputs": [
    {
     "name": "stdout",
     "output_type": "stream",
     "text": [
      "False\n",
      "True\n",
      "True\n",
      "False\n"
     ]
    }
   ],
   "source": [
    "str4=\"singh\"\n",
    "str5=\"S Y\"\n",
    "str6=\"GOOD\"\n",
    "str7=\"Sooraj Singh\"\n",
    "print(str4.isupper())\n",
    "print(str5.isupper())\n",
    "print(str6.isupper())\n",
    "print(str7.isupper())\n"
   ]
  },
  {
   "cell_type": "markdown",
   "id": "517129aa",
   "metadata": {},
   "source": [
    "<b> **Problems:**"
   ]
  },
  {
   "cell_type": "markdown",
   "id": "c1f69a11",
   "metadata": {},
   "source": [
    "* Write a program to print a integer=3, Float=4.5, string=\"HEllo worlds\"\n",
    "\n",
    "* Write a program to take input from user of following data types and print them as output\n",
    "    1. Integer\n",
    "    2. Float\n",
    "    3. string\n",
    "* Write a program to take a string as input an perform following operations:\n",
    "    1. Find length of string \n",
    "    2. Convert the string into UPPERCASE and print it\n",
    "    3. Convert the string into LOWERCASE and print it\n",
    "    \n",
    "    STRING: \"Nancy is a Cheater, liar and selfish\"\n",
    "\n",
    "* Using slicing, store words of STRING in variables \n",
    "    word1=\"Nancy is a Cheater\", \n",
    "    word2=\"liar\", \n",
    "    word3=\"and selfish\"\n",
    "\n",
    "\n"
   ]
  },
  {
   "cell_type": "code",
   "execution_count": null,
   "id": "0a7b6625",
   "metadata": {},
   "outputs": [],
   "source": []
  }
 ],
 "metadata": {
  "kernelspec": {
   "display_name": "Python 3 (ipykernel)",
   "language": "python",
   "name": "python3"
  },
  "language_info": {
   "codemirror_mode": {
    "name": "ipython",
    "version": 3
   },
   "file_extension": ".py",
   "mimetype": "text/x-python",
   "name": "python",
   "nbconvert_exporter": "python",
   "pygments_lexer": "ipython3",
   "version": "3.11.5"
  }
 },
 "nbformat": 4,
 "nbformat_minor": 5
}
