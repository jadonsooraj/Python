{
 "cells": [
  {
   "cell_type": "markdown",
   "id": "b185fdc9",
   "metadata": {
    "id": "WFYuAxS2hcu6",
    "papermill": {
     "duration": 0.007601,
     "end_time": "2022-08-09T10:16:26.852399",
     "exception": false,
     "start_time": "2022-08-09T10:16:26.844798",
     "status": "completed"
    },
    "tags": []
   },
   "source": [
    "**Consider the following Python dictionary data and Python list labels:**\n",
    "\n",
    "data = {'birds': ['Cranes', 'Cranes', 'plovers', 'spoonbills', 'spoonbills', 'Cranes', 'plovers', 'Cranes', 'spoonbills', 'spoonbills'],\n",
    "        'age': [3.5, 4, 1.5, np.nan, 6, 3, 5.5, np.nan, 8, 4],\n",
    "        'visits': [2, 4, 3, 4, 3, 4, 2, 2, 3, 2],\n",
    "        'priority': ['yes', 'yes', 'no', 'yes', 'no', 'no', 'no', 'yes', 'no', 'no']}\n",
    "\n",
    "labels = ['a', 'b', 'c', 'd', 'e', 'f', 'g', 'h', 'i', 'j']\n"
   ]
  },
  {
   "cell_type": "markdown",
   "id": "ad1c41c1",
   "metadata": {
    "id": "KaY8jRX3hcu9",
    "papermill": {
     "duration": 0.006205,
     "end_time": "2022-08-09T10:16:26.865064",
     "exception": false,
     "start_time": "2022-08-09T10:16:26.858859",
     "status": "completed"
    },
    "tags": []
   },
   "source": [
    "**1. Create a DataFrame birds from this dictionary data which has the index labels.**"
   ]
  },
  {
   "cell_type": "code",
   "execution_count": 4,
   "id": "bdfa2cc8",
   "metadata": {
    "id": "AWrM74tnhcu_",
    "papermill": {
     "duration": 0.006267,
     "end_time": "2022-08-09T10:16:26.877524",
     "exception": false,
     "start_time": "2022-08-09T10:16:26.871257",
     "status": "completed"
    },
    "tags": []
   },
   "outputs": [
    {
     "data": {
      "text/html": [
       "<div>\n",
       "<style scoped>\n",
       "    .dataframe tbody tr th:only-of-type {\n",
       "        vertical-align: middle;\n",
       "    }\n",
       "\n",
       "    .dataframe tbody tr th {\n",
       "        vertical-align: top;\n",
       "    }\n",
       "\n",
       "    .dataframe thead th {\n",
       "        text-align: right;\n",
       "    }\n",
       "</style>\n",
       "<table border=\"1\" class=\"dataframe\">\n",
       "  <thead>\n",
       "    <tr style=\"text-align: right;\">\n",
       "      <th></th>\n",
       "      <th>birds</th>\n",
       "      <th>age</th>\n",
       "      <th>visits</th>\n",
       "      <th>priority</th>\n",
       "    </tr>\n",
       "  </thead>\n",
       "  <tbody>\n",
       "    <tr>\n",
       "      <th>a</th>\n",
       "      <td>Cranes</td>\n",
       "      <td>3.5</td>\n",
       "      <td>2</td>\n",
       "      <td>yes</td>\n",
       "    </tr>\n",
       "    <tr>\n",
       "      <th>b</th>\n",
       "      <td>Cranes</td>\n",
       "      <td>4.0</td>\n",
       "      <td>4</td>\n",
       "      <td>yes</td>\n",
       "    </tr>\n",
       "    <tr>\n",
       "      <th>c</th>\n",
       "      <td>plovers</td>\n",
       "      <td>1.5</td>\n",
       "      <td>3</td>\n",
       "      <td>no</td>\n",
       "    </tr>\n",
       "    <tr>\n",
       "      <th>d</th>\n",
       "      <td>spoonbills</td>\n",
       "      <td>NaN</td>\n",
       "      <td>4</td>\n",
       "      <td>yes</td>\n",
       "    </tr>\n",
       "    <tr>\n",
       "      <th>e</th>\n",
       "      <td>spoonbills</td>\n",
       "      <td>6.0</td>\n",
       "      <td>3</td>\n",
       "      <td>no</td>\n",
       "    </tr>\n",
       "  </tbody>\n",
       "</table>\n",
       "</div>"
      ],
      "text/plain": [
       "        birds  age  visits priority\n",
       "a      Cranes  3.5       2      yes\n",
       "b      Cranes  4.0       4      yes\n",
       "c     plovers  1.5       3       no\n",
       "d  spoonbills  NaN       4      yes\n",
       "e  spoonbills  6.0       3       no"
      ]
     },
     "execution_count": 4,
     "metadata": {},
     "output_type": "execute_result"
    }
   ],
   "source": [
    "import pandas as pd\n",
    "import numpy as np\n",
    "data = {'birds': ['Cranes', 'Cranes', 'plovers', 'spoonbills', 'spoonbills', 'Cranes', 'plovers', 'Cranes', 'spoonbills', 'spoonbills'],\n",
    "        'age': [3.5, 4, 1.5, np.nan, 6, 3, 5.5, np.nan, 8, 4],\n",
    "        'visits': [2, 4, 3, 4, 3, 4, 2, 2, 3, 2],\n",
    "        'priority': ['yes', 'yes', 'no', 'yes', 'no', 'no', 'no', 'yes', 'no', 'no']}\n",
    "\n",
    "labels = ['a', 'b', 'c', 'd', 'e', 'f', 'g', 'h', 'i', 'j']\n",
    "\n",
    "birds=pd.DataFrame(data,index=labels)\n",
    "birds.head()"
   ]
  },
  {
   "cell_type": "markdown",
   "id": "18785ca8",
   "metadata": {
    "id": "31bQ4H55hcvG",
    "papermill": {
     "duration": 0.006069,
     "end_time": "2022-08-09T10:16:26.890027",
     "exception": false,
     "start_time": "2022-08-09T10:16:26.883958",
     "status": "completed"
    },
    "tags": []
   },
   "source": [
    "**2. Display a summary of the basic information about birds DataFrame and its data.**"
   ]
  },
  {
   "cell_type": "code",
   "execution_count": null,
   "id": "831ab25f",
   "metadata": {
    "id": "PT7e5BiThcvI",
    "papermill": {
     "duration": 0.005981,
     "end_time": "2022-08-09T10:16:26.902336",
     "exception": false,
     "start_time": "2022-08-09T10:16:26.896355",
     "status": "completed"
    },
    "tags": []
   },
   "outputs": [],
   "source": [
    "birds.info()"
   ]
  },
  {
   "cell_type": "markdown",
   "id": "79644ce9",
   "metadata": {
    "id": "ppsyynzjhcvN",
    "papermill": {
     "duration": 0.006168,
     "end_time": "2022-08-09T10:16:26.914782",
     "exception": false,
     "start_time": "2022-08-09T10:16:26.908614",
     "status": "completed"
    },
    "tags": []
   },
   "source": [
    "**3. Print the first 2 rows of the birds dataframe.**"
   ]
  },
  {
   "cell_type": "code",
   "execution_count": null,
   "id": "8102b1a8",
   "metadata": {},
   "outputs": [],
   "source": [
    "birds.head(2)"
   ]
  },
  {
   "cell_type": "markdown",
   "id": "3b610aaf",
   "metadata": {
    "id": "331CiAQDhcvW",
    "papermill": {
     "duration": 0.005988,
     "end_time": "2022-08-09T10:16:26.940592",
     "exception": false,
     "start_time": "2022-08-09T10:16:26.934604",
     "status": "completed"
    },
    "tags": []
   },
   "source": [
    "**4. Print all the rows with only 'birds' and 'age' columns from the dataframe**"
   ]
  },
  {
   "cell_type": "code",
   "execution_count": null,
   "id": "66ab4287",
   "metadata": {
    "id": "eJm1icJhhcvY",
    "papermill": {
     "duration": 0.006447,
     "end_time": "2022-08-09T10:16:26.953992",
     "exception": false,
     "start_time": "2022-08-09T10:16:26.947545",
     "status": "completed"
    },
    "tags": []
   },
   "outputs": [],
   "source": [
    "birds[['birds','age']]"
   ]
  },
  {
   "cell_type": "markdown",
   "id": "28ed77e5",
   "metadata": {
    "id": "33v_rzNyhcvf",
    "papermill": {
     "duration": 0.005954,
     "end_time": "2022-08-09T10:16:26.966371",
     "exception": false,
     "start_time": "2022-08-09T10:16:26.960417",
     "status": "completed"
    },
    "tags": []
   },
   "source": [
    "**5. select [2, 3, 7] rows and in columns ['birds', 'age', 'visits']**"
   ]
  },
  {
   "cell_type": "code",
   "execution_count": 10,
   "id": "aa00a312",
   "metadata": {
    "id": "ia5weqCOhcvh",
    "papermill": {
     "duration": 0.00587,
     "end_time": "2022-08-09T10:16:26.978428",
     "exception": false,
     "start_time": "2022-08-09T10:16:26.972558",
     "status": "completed"
    },
    "tags": []
   },
   "outputs": [
    {
     "data": {
      "text/html": [
       "<div>\n",
       "<style scoped>\n",
       "    .dataframe tbody tr th:only-of-type {\n",
       "        vertical-align: middle;\n",
       "    }\n",
       "\n",
       "    .dataframe tbody tr th {\n",
       "        vertical-align: top;\n",
       "    }\n",
       "\n",
       "    .dataframe thead th {\n",
       "        text-align: right;\n",
       "    }\n",
       "</style>\n",
       "<table border=\"1\" class=\"dataframe\">\n",
       "  <thead>\n",
       "    <tr style=\"text-align: right;\">\n",
       "      <th></th>\n",
       "      <th>birds</th>\n",
       "      <th>age</th>\n",
       "      <th>visits</th>\n",
       "    </tr>\n",
       "  </thead>\n",
       "  <tbody>\n",
       "    <tr>\n",
       "      <th>b</th>\n",
       "      <td>Cranes</td>\n",
       "      <td>4.0</td>\n",
       "      <td>4</td>\n",
       "    </tr>\n",
       "    <tr>\n",
       "      <th>c</th>\n",
       "      <td>plovers</td>\n",
       "      <td>1.5</td>\n",
       "      <td>3</td>\n",
       "    </tr>\n",
       "    <tr>\n",
       "      <th>g</th>\n",
       "      <td>plovers</td>\n",
       "      <td>5.5</td>\n",
       "      <td>2</td>\n",
       "    </tr>\n",
       "  </tbody>\n",
       "</table>\n",
       "</div>"
      ],
      "text/plain": [
       "     birds  age  visits\n",
       "b   Cranes  4.0       4\n",
       "c  plovers  1.5       3\n",
       "g  plovers  5.5       2"
      ]
     },
     "execution_count": 10,
     "metadata": {},
     "output_type": "execute_result"
    }
   ],
   "source": [
    "birds.loc[['b','c','g'],['birds','age','visits']]\n"
   ]
  },
  {
   "cell_type": "markdown",
   "id": "6beb7cef",
   "metadata": {
    "id": "uulxo5y-hcvo",
    "papermill": {
     "duration": 0.006195,
     "end_time": "2022-08-09T10:16:26.990903",
     "exception": false,
     "start_time": "2022-08-09T10:16:26.984708",
     "status": "completed"
    },
    "tags": []
   },
   "source": [
    "**6. select the rows where the number of visits is less than 4**"
   ]
  },
  {
   "cell_type": "code",
   "execution_count": 12,
   "id": "0950be10",
   "metadata": {
    "id": "6Khj7LfZhcvq",
    "papermill": {
     "duration": 0.006516,
     "end_time": "2022-08-09T10:16:27.003730",
     "exception": false,
     "start_time": "2022-08-09T10:16:26.997214",
     "status": "completed"
    },
    "tags": []
   },
   "outputs": [
    {
     "data": {
      "text/html": [
       "<div>\n",
       "<style scoped>\n",
       "    .dataframe tbody tr th:only-of-type {\n",
       "        vertical-align: middle;\n",
       "    }\n",
       "\n",
       "    .dataframe tbody tr th {\n",
       "        vertical-align: top;\n",
       "    }\n",
       "\n",
       "    .dataframe thead th {\n",
       "        text-align: right;\n",
       "    }\n",
       "</style>\n",
       "<table border=\"1\" class=\"dataframe\">\n",
       "  <thead>\n",
       "    <tr style=\"text-align: right;\">\n",
       "      <th></th>\n",
       "      <th>birds</th>\n",
       "      <th>age</th>\n",
       "      <th>visits</th>\n",
       "      <th>priority</th>\n",
       "    </tr>\n",
       "  </thead>\n",
       "  <tbody>\n",
       "    <tr>\n",
       "      <th>a</th>\n",
       "      <td>Cranes</td>\n",
       "      <td>3.5</td>\n",
       "      <td>2</td>\n",
       "      <td>yes</td>\n",
       "    </tr>\n",
       "    <tr>\n",
       "      <th>c</th>\n",
       "      <td>plovers</td>\n",
       "      <td>1.5</td>\n",
       "      <td>3</td>\n",
       "      <td>no</td>\n",
       "    </tr>\n",
       "    <tr>\n",
       "      <th>e</th>\n",
       "      <td>spoonbills</td>\n",
       "      <td>6.0</td>\n",
       "      <td>3</td>\n",
       "      <td>no</td>\n",
       "    </tr>\n",
       "    <tr>\n",
       "      <th>g</th>\n",
       "      <td>plovers</td>\n",
       "      <td>5.5</td>\n",
       "      <td>2</td>\n",
       "      <td>no</td>\n",
       "    </tr>\n",
       "    <tr>\n",
       "      <th>h</th>\n",
       "      <td>Cranes</td>\n",
       "      <td>NaN</td>\n",
       "      <td>2</td>\n",
       "      <td>yes</td>\n",
       "    </tr>\n",
       "    <tr>\n",
       "      <th>i</th>\n",
       "      <td>spoonbills</td>\n",
       "      <td>8.0</td>\n",
       "      <td>3</td>\n",
       "      <td>no</td>\n",
       "    </tr>\n",
       "    <tr>\n",
       "      <th>j</th>\n",
       "      <td>spoonbills</td>\n",
       "      <td>4.0</td>\n",
       "      <td>2</td>\n",
       "      <td>no</td>\n",
       "    </tr>\n",
       "  </tbody>\n",
       "</table>\n",
       "</div>"
      ],
      "text/plain": [
       "        birds  age  visits priority\n",
       "a      Cranes  3.5       2      yes\n",
       "c     plovers  1.5       3       no\n",
       "e  spoonbills  6.0       3       no\n",
       "g     plovers  5.5       2       no\n",
       "h      Cranes  NaN       2      yes\n",
       "i  spoonbills  8.0       3       no\n",
       "j  spoonbills  4.0       2       no"
      ]
     },
     "execution_count": 12,
     "metadata": {},
     "output_type": "execute_result"
    }
   ],
   "source": [
    "birds.loc[birds['visits']<4]"
   ]
  },
  {
   "cell_type": "markdown",
   "id": "1e193a3b",
   "metadata": {
    "id": "sB8icEBVhcvy",
    "papermill": {
     "duration": 0.005849,
     "end_time": "2022-08-09T10:16:27.017377",
     "exception": false,
     "start_time": "2022-08-09T10:16:27.011528",
     "status": "completed"
    },
    "tags": []
   },
   "source": [
    "**7. select the rows with columns ['birds', 'visits'] where the age is missing i.e NaN**"
   ]
  },
  {
   "cell_type": "code",
   "execution_count": 14,
   "id": "b5b9259d",
   "metadata": {
    "id": "dHoZ2z2ghcv2",
    "papermill": {
     "duration": 0.005755,
     "end_time": "2022-08-09T10:16:27.029234",
     "exception": false,
     "start_time": "2022-08-09T10:16:27.023479",
     "status": "completed"
    },
    "tags": []
   },
   "outputs": [
    {
     "data": {
      "text/html": [
       "<div>\n",
       "<style scoped>\n",
       "    .dataframe tbody tr th:only-of-type {\n",
       "        vertical-align: middle;\n",
       "    }\n",
       "\n",
       "    .dataframe tbody tr th {\n",
       "        vertical-align: top;\n",
       "    }\n",
       "\n",
       "    .dataframe thead th {\n",
       "        text-align: right;\n",
       "    }\n",
       "</style>\n",
       "<table border=\"1\" class=\"dataframe\">\n",
       "  <thead>\n",
       "    <tr style=\"text-align: right;\">\n",
       "      <th></th>\n",
       "      <th>birds</th>\n",
       "      <th>visits</th>\n",
       "    </tr>\n",
       "  </thead>\n",
       "  <tbody>\n",
       "    <tr>\n",
       "      <th>d</th>\n",
       "      <td>spoonbills</td>\n",
       "      <td>4</td>\n",
       "    </tr>\n",
       "    <tr>\n",
       "      <th>h</th>\n",
       "      <td>Cranes</td>\n",
       "      <td>2</td>\n",
       "    </tr>\n",
       "  </tbody>\n",
       "</table>\n",
       "</div>"
      ],
      "text/plain": [
       "        birds  visits\n",
       "d  spoonbills       4\n",
       "h      Cranes       2"
      ]
     },
     "execution_count": 14,
     "metadata": {},
     "output_type": "execute_result"
    }
   ],
   "source": [
    "birds.loc[birds['age'].isna(),['birds','visits']]"
   ]
  },
  {
   "cell_type": "markdown",
   "id": "7c84c01a",
   "metadata": {
    "id": "sgiIkh1Ghcv-",
    "papermill": {
     "duration": 0.005706,
     "end_time": "2022-08-09T10:16:27.041042",
     "exception": false,
     "start_time": "2022-08-09T10:16:27.035336",
     "status": "completed"
    },
    "tags": []
   },
   "source": [
    "**8. Select the rows where the birds is a Cranes and the age is less than 4**"
   ]
  },
  {
   "cell_type": "code",
   "execution_count": 16,
   "id": "7cd6cf0d",
   "metadata": {
    "id": "4of7A8gehcwC",
    "papermill": {
     "duration": 0.005698,
     "end_time": "2022-08-09T10:16:27.052795",
     "exception": false,
     "start_time": "2022-08-09T10:16:27.047097",
     "status": "completed"
    },
    "tags": []
   },
   "outputs": [
    {
     "data": {
      "text/html": [
       "<div>\n",
       "<style scoped>\n",
       "    .dataframe tbody tr th:only-of-type {\n",
       "        vertical-align: middle;\n",
       "    }\n",
       "\n",
       "    .dataframe tbody tr th {\n",
       "        vertical-align: top;\n",
       "    }\n",
       "\n",
       "    .dataframe thead th {\n",
       "        text-align: right;\n",
       "    }\n",
       "</style>\n",
       "<table border=\"1\" class=\"dataframe\">\n",
       "  <thead>\n",
       "    <tr style=\"text-align: right;\">\n",
       "      <th></th>\n",
       "      <th>birds</th>\n",
       "      <th>age</th>\n",
       "      <th>visits</th>\n",
       "      <th>priority</th>\n",
       "    </tr>\n",
       "  </thead>\n",
       "  <tbody>\n",
       "    <tr>\n",
       "      <th>a</th>\n",
       "      <td>Cranes</td>\n",
       "      <td>3.5</td>\n",
       "      <td>2</td>\n",
       "      <td>yes</td>\n",
       "    </tr>\n",
       "    <tr>\n",
       "      <th>f</th>\n",
       "      <td>Cranes</td>\n",
       "      <td>3.0</td>\n",
       "      <td>4</td>\n",
       "      <td>no</td>\n",
       "    </tr>\n",
       "  </tbody>\n",
       "</table>\n",
       "</div>"
      ],
      "text/plain": [
       "    birds  age  visits priority\n",
       "a  Cranes  3.5       2      yes\n",
       "f  Cranes  3.0       4       no"
      ]
     },
     "execution_count": 16,
     "metadata": {},
     "output_type": "execute_result"
    }
   ],
   "source": [
    "birds.loc[(birds['birds']=='Cranes') & (birds['age']<4)]"
   ]
  },
  {
   "cell_type": "markdown",
   "id": "ee161c76",
   "metadata": {
    "id": "IZrFrd1AhcwH",
    "papermill": {
     "duration": 0.005691,
     "end_time": "2022-08-09T10:16:27.064583",
     "exception": false,
     "start_time": "2022-08-09T10:16:27.058892",
     "status": "completed"
    },
    "tags": []
   },
   "source": [
    "**9. Select the rows the age is between 2 and 4(inclusive)**"
   ]
  },
  {
   "cell_type": "code",
   "execution_count": 17,
   "id": "780612ac",
   "metadata": {
    "id": "Ij6co9oJhcwT",
    "papermill": {
     "duration": 0.00567,
     "end_time": "2022-08-09T10:16:27.076275",
     "exception": false,
     "start_time": "2022-08-09T10:16:27.070605",
     "status": "completed"
    },
    "tags": []
   },
   "outputs": [
    {
     "data": {
      "text/html": [
       "<div>\n",
       "<style scoped>\n",
       "    .dataframe tbody tr th:only-of-type {\n",
       "        vertical-align: middle;\n",
       "    }\n",
       "\n",
       "    .dataframe tbody tr th {\n",
       "        vertical-align: top;\n",
       "    }\n",
       "\n",
       "    .dataframe thead th {\n",
       "        text-align: right;\n",
       "    }\n",
       "</style>\n",
       "<table border=\"1\" class=\"dataframe\">\n",
       "  <thead>\n",
       "    <tr style=\"text-align: right;\">\n",
       "      <th></th>\n",
       "      <th>birds</th>\n",
       "      <th>age</th>\n",
       "      <th>visits</th>\n",
       "      <th>priority</th>\n",
       "    </tr>\n",
       "  </thead>\n",
       "  <tbody>\n",
       "    <tr>\n",
       "      <th>a</th>\n",
       "      <td>Cranes</td>\n",
       "      <td>3.5</td>\n",
       "      <td>2</td>\n",
       "      <td>yes</td>\n",
       "    </tr>\n",
       "    <tr>\n",
       "      <th>b</th>\n",
       "      <td>Cranes</td>\n",
       "      <td>4.0</td>\n",
       "      <td>4</td>\n",
       "      <td>yes</td>\n",
       "    </tr>\n",
       "    <tr>\n",
       "      <th>f</th>\n",
       "      <td>Cranes</td>\n",
       "      <td>3.0</td>\n",
       "      <td>4</td>\n",
       "      <td>no</td>\n",
       "    </tr>\n",
       "    <tr>\n",
       "      <th>j</th>\n",
       "      <td>spoonbills</td>\n",
       "      <td>4.0</td>\n",
       "      <td>2</td>\n",
       "      <td>no</td>\n",
       "    </tr>\n",
       "  </tbody>\n",
       "</table>\n",
       "</div>"
      ],
      "text/plain": [
       "        birds  age  visits priority\n",
       "a      Cranes  3.5       2      yes\n",
       "b      Cranes  4.0       4      yes\n",
       "f      Cranes  3.0       4       no\n",
       "j  spoonbills  4.0       2       no"
      ]
     },
     "execution_count": 17,
     "metadata": {},
     "output_type": "execute_result"
    }
   ],
   "source": [
    "birds.loc[birds['age'].between(2,4)]"
   ]
  },
  {
   "cell_type": "markdown",
   "id": "e29c83a8",
   "metadata": {
    "id": "KvV1eyyehcwX",
    "papermill": {
     "duration": 0.005706,
     "end_time": "2022-08-09T10:16:27.088104",
     "exception": false,
     "start_time": "2022-08-09T10:16:27.082398",
     "status": "completed"
    },
    "tags": []
   },
   "source": [
    "**10. Find the total number of visits of the bird Cranes**"
   ]
  },
  {
   "cell_type": "code",
   "execution_count": 20,
   "id": "86c1e5f8",
   "metadata": {
    "id": "y5NyL569hcwY",
    "papermill": {
     "duration": 0.005606,
     "end_time": "2022-08-09T10:16:27.099653",
     "exception": false,
     "start_time": "2022-08-09T10:16:27.094047",
     "status": "completed"
    },
    "tags": []
   },
   "outputs": [
    {
     "data": {
      "text/html": [
       "<div>\n",
       "<style scoped>\n",
       "    .dataframe tbody tr th:only-of-type {\n",
       "        vertical-align: middle;\n",
       "    }\n",
       "\n",
       "    .dataframe tbody tr th {\n",
       "        vertical-align: top;\n",
       "    }\n",
       "\n",
       "    .dataframe thead th {\n",
       "        text-align: right;\n",
       "    }\n",
       "</style>\n",
       "<table border=\"1\" class=\"dataframe\">\n",
       "  <thead>\n",
       "    <tr style=\"text-align: right;\">\n",
       "      <th></th>\n",
       "      <th>birds</th>\n",
       "      <th>total_visits</th>\n",
       "    </tr>\n",
       "  </thead>\n",
       "  <tbody>\n",
       "    <tr>\n",
       "      <th>0</th>\n",
       "      <td>Cranes</td>\n",
       "      <td>12</td>\n",
       "    </tr>\n",
       "  </tbody>\n",
       "</table>\n",
       "</div>"
      ],
      "text/plain": [
       "    birds  total_visits\n",
       "0  Cranes            12"
      ]
     },
     "execution_count": 20,
     "metadata": {},
     "output_type": "execute_result"
    }
   ],
   "source": [
    "birds.loc[birds['birds']=='Cranes'].groupby('birds').agg(\n",
    "    total_visits=('visits','sum')\n",
    ").reset_index()"
   ]
  },
  {
   "cell_type": "markdown",
   "id": "ebefe0b7",
   "metadata": {
    "id": "S-1B7oDehcwf",
    "papermill": {
     "duration": 0.005675,
     "end_time": "2022-08-09T10:16:27.111418",
     "exception": false,
     "start_time": "2022-08-09T10:16:27.105743",
     "status": "completed"
    },
    "tags": []
   },
   "source": [
    "**11. Calculate the mean age for each different birds in dataframe.**"
   ]
  },
  {
   "cell_type": "code",
   "execution_count": 22,
   "id": "36b7dd62",
   "metadata": {
    "id": "ljKjf7nyhcwg",
    "papermill": {
     "duration": 0.00572,
     "end_time": "2022-08-09T10:16:27.123168",
     "exception": false,
     "start_time": "2022-08-09T10:16:27.117448",
     "status": "completed"
    },
    "tags": []
   },
   "outputs": [
    {
     "data": {
      "text/html": [
       "<div>\n",
       "<style scoped>\n",
       "    .dataframe tbody tr th:only-of-type {\n",
       "        vertical-align: middle;\n",
       "    }\n",
       "\n",
       "    .dataframe tbody tr th {\n",
       "        vertical-align: top;\n",
       "    }\n",
       "\n",
       "    .dataframe thead th {\n",
       "        text-align: right;\n",
       "    }\n",
       "</style>\n",
       "<table border=\"1\" class=\"dataframe\">\n",
       "  <thead>\n",
       "    <tr style=\"text-align: right;\">\n",
       "      <th></th>\n",
       "      <th>birds</th>\n",
       "      <th>mean_age</th>\n",
       "    </tr>\n",
       "  </thead>\n",
       "  <tbody>\n",
       "    <tr>\n",
       "      <th>0</th>\n",
       "      <td>Cranes</td>\n",
       "      <td>3.5</td>\n",
       "    </tr>\n",
       "    <tr>\n",
       "      <th>1</th>\n",
       "      <td>plovers</td>\n",
       "      <td>3.5</td>\n",
       "    </tr>\n",
       "    <tr>\n",
       "      <th>2</th>\n",
       "      <td>spoonbills</td>\n",
       "      <td>6.0</td>\n",
       "    </tr>\n",
       "  </tbody>\n",
       "</table>\n",
       "</div>"
      ],
      "text/plain": [
       "        birds  mean_age\n",
       "0      Cranes       3.5\n",
       "1     plovers       3.5\n",
       "2  spoonbills       6.0"
      ]
     },
     "execution_count": 22,
     "metadata": {},
     "output_type": "execute_result"
    }
   ],
   "source": [
    "birds.groupby('birds').agg(\n",
    "    mean_age=('age','mean')\n",
    ").reset_index()"
   ]
  },
  {
   "cell_type": "markdown",
   "id": "a405c103",
   "metadata": {
    "id": "B5HIznnMhcwl",
    "papermill": {
     "duration": 0.005673,
     "end_time": "2022-08-09T10:16:27.134980",
     "exception": false,
     "start_time": "2022-08-09T10:16:27.129307",
     "status": "completed"
    },
    "tags": []
   },
   "source": [
    "**12. Append a new row 'k' to dataframe with your choice of values for each column. Then delete that row to return the original DataFrame.**"
   ]
  },
  {
   "cell_type": "code",
   "execution_count": null,
   "id": "2d2fbf36",
   "metadata": {
    "id": "GDDd9mXEhcwm",
    "papermill": {
     "duration": 0.005789,
     "end_time": "2022-08-09T10:16:27.147097",
     "exception": false,
     "start_time": "2022-08-09T10:16:27.141308",
     "status": "completed"
    },
    "tags": []
   },
   "outputs": [],
   "source": []
  },
  {
   "cell_type": "markdown",
   "id": "433df920",
   "metadata": {
    "id": "_cLx6xLahcwq",
    "papermill": {
     "duration": 0.005675,
     "end_time": "2022-08-09T10:16:27.158903",
     "exception": false,
     "start_time": "2022-08-09T10:16:27.153228",
     "status": "completed"
    },
    "tags": []
   },
   "source": [
    "**13. Find the number of each type of birds in dataframe (Counts)**"
   ]
  },
  {
   "cell_type": "code",
   "execution_count": null,
   "id": "e3c1ea89",
   "metadata": {
    "id": "aTHV8JJMhcws",
    "papermill": {
     "duration": 0.005635,
     "end_time": "2022-08-09T10:16:27.170575",
     "exception": false,
     "start_time": "2022-08-09T10:16:27.164940",
     "status": "completed"
    },
    "tags": []
   },
   "outputs": [],
   "source": []
  },
  {
   "cell_type": "markdown",
   "id": "fff73135",
   "metadata": {
    "id": "-SJ6OYuYhcww",
    "papermill": {
     "duration": 0.005634,
     "end_time": "2022-08-09T10:16:27.182256",
     "exception": false,
     "start_time": "2022-08-09T10:16:27.176622",
     "status": "completed"
    },
    "tags": []
   },
   "source": [
    "**14. Sort dataframe (birds) first by the values in the 'age' in decending order, then by the value in the 'visits' column in ascending order.**"
   ]
  },
  {
   "cell_type": "code",
   "execution_count": 23,
   "id": "a6a97db1",
   "metadata": {
    "id": "1oeqEqBjhcwy",
    "papermill": {
     "duration": 0.005761,
     "end_time": "2022-08-09T10:16:27.193974",
     "exception": false,
     "start_time": "2022-08-09T10:16:27.188213",
     "status": "completed"
    },
    "tags": []
   },
   "outputs": [
    {
     "data": {
      "text/html": [
       "<div>\n",
       "<style scoped>\n",
       "    .dataframe tbody tr th:only-of-type {\n",
       "        vertical-align: middle;\n",
       "    }\n",
       "\n",
       "    .dataframe tbody tr th {\n",
       "        vertical-align: top;\n",
       "    }\n",
       "\n",
       "    .dataframe thead th {\n",
       "        text-align: right;\n",
       "    }\n",
       "</style>\n",
       "<table border=\"1\" class=\"dataframe\">\n",
       "  <thead>\n",
       "    <tr style=\"text-align: right;\">\n",
       "      <th></th>\n",
       "      <th>birds</th>\n",
       "      <th>age</th>\n",
       "      <th>visits</th>\n",
       "      <th>priority</th>\n",
       "    </tr>\n",
       "  </thead>\n",
       "  <tbody>\n",
       "    <tr>\n",
       "      <th>j</th>\n",
       "      <td>spoonbills</td>\n",
       "      <td>4.0</td>\n",
       "      <td>2</td>\n",
       "      <td>no</td>\n",
       "    </tr>\n",
       "    <tr>\n",
       "      <th>e</th>\n",
       "      <td>spoonbills</td>\n",
       "      <td>6.0</td>\n",
       "      <td>3</td>\n",
       "      <td>no</td>\n",
       "    </tr>\n",
       "    <tr>\n",
       "      <th>i</th>\n",
       "      <td>spoonbills</td>\n",
       "      <td>8.0</td>\n",
       "      <td>3</td>\n",
       "      <td>no</td>\n",
       "    </tr>\n",
       "    <tr>\n",
       "      <th>d</th>\n",
       "      <td>spoonbills</td>\n",
       "      <td>NaN</td>\n",
       "      <td>4</td>\n",
       "      <td>yes</td>\n",
       "    </tr>\n",
       "    <tr>\n",
       "      <th>g</th>\n",
       "      <td>plovers</td>\n",
       "      <td>5.5</td>\n",
       "      <td>2</td>\n",
       "      <td>no</td>\n",
       "    </tr>\n",
       "    <tr>\n",
       "      <th>c</th>\n",
       "      <td>plovers</td>\n",
       "      <td>1.5</td>\n",
       "      <td>3</td>\n",
       "      <td>no</td>\n",
       "    </tr>\n",
       "    <tr>\n",
       "      <th>a</th>\n",
       "      <td>Cranes</td>\n",
       "      <td>3.5</td>\n",
       "      <td>2</td>\n",
       "      <td>yes</td>\n",
       "    </tr>\n",
       "    <tr>\n",
       "      <th>h</th>\n",
       "      <td>Cranes</td>\n",
       "      <td>NaN</td>\n",
       "      <td>2</td>\n",
       "      <td>yes</td>\n",
       "    </tr>\n",
       "    <tr>\n",
       "      <th>b</th>\n",
       "      <td>Cranes</td>\n",
       "      <td>4.0</td>\n",
       "      <td>4</td>\n",
       "      <td>yes</td>\n",
       "    </tr>\n",
       "    <tr>\n",
       "      <th>f</th>\n",
       "      <td>Cranes</td>\n",
       "      <td>3.0</td>\n",
       "      <td>4</td>\n",
       "      <td>no</td>\n",
       "    </tr>\n",
       "  </tbody>\n",
       "</table>\n",
       "</div>"
      ],
      "text/plain": [
       "        birds  age  visits priority\n",
       "j  spoonbills  4.0       2       no\n",
       "e  spoonbills  6.0       3       no\n",
       "i  spoonbills  8.0       3       no\n",
       "d  spoonbills  NaN       4      yes\n",
       "g     plovers  5.5       2       no\n",
       "c     plovers  1.5       3       no\n",
       "a      Cranes  3.5       2      yes\n",
       "h      Cranes  NaN       2      yes\n",
       "b      Cranes  4.0       4      yes\n",
       "f      Cranes  3.0       4       no"
      ]
     },
     "execution_count": 23,
     "metadata": {},
     "output_type": "execute_result"
    }
   ],
   "source": [
    "birds.sort_values(['birds','visits'],ascending=[False,True])"
   ]
  },
  {
   "cell_type": "markdown",
   "id": "8b425719",
   "metadata": {
    "id": "JaKj7ZQUhcw7",
    "papermill": {
     "duration": 0.005629,
     "end_time": "2022-08-09T10:16:27.205706",
     "exception": false,
     "start_time": "2022-08-09T10:16:27.200077",
     "status": "completed"
    },
    "tags": []
   },
   "source": [
    "**15. Replace the priority column values with'yes' should be 1 and 'no' should be 0**"
   ]
  },
  {
   "cell_type": "code",
   "execution_count": 26,
   "id": "4fb29ad8",
   "metadata": {
    "id": "AJAPYiIHhcw9",
    "papermill": {
     "duration": 0.005677,
     "end_time": "2022-08-09T10:16:27.217328",
     "exception": false,
     "start_time": "2022-08-09T10:16:27.211651",
     "status": "completed"
    },
    "tags": []
   },
   "outputs": [
    {
     "data": {
      "text/html": [
       "<div>\n",
       "<style scoped>\n",
       "    .dataframe tbody tr th:only-of-type {\n",
       "        vertical-align: middle;\n",
       "    }\n",
       "\n",
       "    .dataframe tbody tr th {\n",
       "        vertical-align: top;\n",
       "    }\n",
       "\n",
       "    .dataframe thead th {\n",
       "        text-align: right;\n",
       "    }\n",
       "</style>\n",
       "<table border=\"1\" class=\"dataframe\">\n",
       "  <thead>\n",
       "    <tr style=\"text-align: right;\">\n",
       "      <th></th>\n",
       "      <th>birds</th>\n",
       "      <th>age</th>\n",
       "      <th>visits</th>\n",
       "      <th>priority</th>\n",
       "    </tr>\n",
       "  </thead>\n",
       "  <tbody>\n",
       "    <tr>\n",
       "      <th>a</th>\n",
       "      <td>Cranes</td>\n",
       "      <td>3.5</td>\n",
       "      <td>2</td>\n",
       "      <td>1</td>\n",
       "    </tr>\n",
       "    <tr>\n",
       "      <th>b</th>\n",
       "      <td>Cranes</td>\n",
       "      <td>4.0</td>\n",
       "      <td>4</td>\n",
       "      <td>1</td>\n",
       "    </tr>\n",
       "    <tr>\n",
       "      <th>c</th>\n",
       "      <td>plovers</td>\n",
       "      <td>1.5</td>\n",
       "      <td>3</td>\n",
       "      <td>0</td>\n",
       "    </tr>\n",
       "    <tr>\n",
       "      <th>d</th>\n",
       "      <td>spoonbills</td>\n",
       "      <td>NaN</td>\n",
       "      <td>4</td>\n",
       "      <td>1</td>\n",
       "    </tr>\n",
       "    <tr>\n",
       "      <th>e</th>\n",
       "      <td>spoonbills</td>\n",
       "      <td>6.0</td>\n",
       "      <td>3</td>\n",
       "      <td>0</td>\n",
       "    </tr>\n",
       "    <tr>\n",
       "      <th>f</th>\n",
       "      <td>Cranes</td>\n",
       "      <td>3.0</td>\n",
       "      <td>4</td>\n",
       "      <td>0</td>\n",
       "    </tr>\n",
       "    <tr>\n",
       "      <th>g</th>\n",
       "      <td>plovers</td>\n",
       "      <td>5.5</td>\n",
       "      <td>2</td>\n",
       "      <td>0</td>\n",
       "    </tr>\n",
       "    <tr>\n",
       "      <th>h</th>\n",
       "      <td>Cranes</td>\n",
       "      <td>NaN</td>\n",
       "      <td>2</td>\n",
       "      <td>1</td>\n",
       "    </tr>\n",
       "    <tr>\n",
       "      <th>i</th>\n",
       "      <td>spoonbills</td>\n",
       "      <td>8.0</td>\n",
       "      <td>3</td>\n",
       "      <td>0</td>\n",
       "    </tr>\n",
       "    <tr>\n",
       "      <th>j</th>\n",
       "      <td>spoonbills</td>\n",
       "      <td>4.0</td>\n",
       "      <td>2</td>\n",
       "      <td>0</td>\n",
       "    </tr>\n",
       "  </tbody>\n",
       "</table>\n",
       "</div>"
      ],
      "text/plain": [
       "        birds  age  visits  priority\n",
       "a      Cranes  3.5       2         1\n",
       "b      Cranes  4.0       4         1\n",
       "c     plovers  1.5       3         0\n",
       "d  spoonbills  NaN       4         1\n",
       "e  spoonbills  6.0       3         0\n",
       "f      Cranes  3.0       4         0\n",
       "g     plovers  5.5       2         0\n",
       "h      Cranes  NaN       2         1\n",
       "i  spoonbills  8.0       3         0\n",
       "j  spoonbills  4.0       2         0"
      ]
     },
     "execution_count": 26,
     "metadata": {},
     "output_type": "execute_result"
    }
   ],
   "source": [
    "birds['priority']=birds['priority'].apply(lambda x: 1 if x=='yes' else 0)\n",
    "birds"
   ]
  },
  {
   "cell_type": "markdown",
   "id": "86e01537",
   "metadata": {
    "id": "E2EFmujbhcxA",
    "papermill": {
     "duration": 0.00569,
     "end_time": "2022-08-09T10:16:27.229126",
     "exception": false,
     "start_time": "2022-08-09T10:16:27.223436",
     "status": "completed"
    },
    "tags": []
   },
   "source": [
    "**16. In the 'birds' column, change the 'Cranes' entries to 'trumpeters'.**"
   ]
  },
  {
   "cell_type": "code",
   "execution_count": null,
   "id": "efd36975",
   "metadata": {
    "id": "Bi29Cc6lhcxC",
    "papermill": {
     "duration": 0.005609,
     "end_time": "2022-08-09T10:16:27.240694",
     "exception": false,
     "start_time": "2022-08-09T10:16:27.235085",
     "status": "completed"
    },
    "tags": []
   },
   "outputs": [
    {
     "data": {
      "text/html": [
       "<div>\n",
       "<style scoped>\n",
       "    .dataframe tbody tr th:only-of-type {\n",
       "        vertical-align: middle;\n",
       "    }\n",
       "\n",
       "    .dataframe tbody tr th {\n",
       "        vertical-align: top;\n",
       "    }\n",
       "\n",
       "    .dataframe thead th {\n",
       "        text-align: right;\n",
       "    }\n",
       "</style>\n",
       "<table border=\"1\" class=\"dataframe\">\n",
       "  <thead>\n",
       "    <tr style=\"text-align: right;\">\n",
       "      <th></th>\n",
       "      <th>birds</th>\n",
       "      <th>age</th>\n",
       "      <th>visits</th>\n",
       "      <th>priority</th>\n",
       "    </tr>\n",
       "  </thead>\n",
       "  <tbody>\n",
       "    <tr>\n",
       "      <th>a</th>\n",
       "      <td>Cranes</td>\n",
       "      <td>3.5</td>\n",
       "      <td>2</td>\n",
       "      <td>1</td>\n",
       "    </tr>\n",
       "    <tr>\n",
       "      <th>b</th>\n",
       "      <td>Cranes</td>\n",
       "      <td>4.0</td>\n",
       "      <td>4</td>\n",
       "      <td>1</td>\n",
       "    </tr>\n",
       "    <tr>\n",
       "      <th>c</th>\n",
       "      <td>plovers</td>\n",
       "      <td>1.5</td>\n",
       "      <td>3</td>\n",
       "      <td>0</td>\n",
       "    </tr>\n",
       "    <tr>\n",
       "      <th>d</th>\n",
       "      <td>spoonbills</td>\n",
       "      <td>NaN</td>\n",
       "      <td>4</td>\n",
       "      <td>1</td>\n",
       "    </tr>\n",
       "    <tr>\n",
       "      <th>e</th>\n",
       "      <td>spoonbills</td>\n",
       "      <td>6.0</td>\n",
       "      <td>3</td>\n",
       "      <td>0</td>\n",
       "    </tr>\n",
       "    <tr>\n",
       "      <th>f</th>\n",
       "      <td>Cranes</td>\n",
       "      <td>3.0</td>\n",
       "      <td>4</td>\n",
       "      <td>0</td>\n",
       "    </tr>\n",
       "    <tr>\n",
       "      <th>g</th>\n",
       "      <td>plovers</td>\n",
       "      <td>5.5</td>\n",
       "      <td>2</td>\n",
       "      <td>0</td>\n",
       "    </tr>\n",
       "    <tr>\n",
       "      <th>h</th>\n",
       "      <td>Cranes</td>\n",
       "      <td>NaN</td>\n",
       "      <td>2</td>\n",
       "      <td>1</td>\n",
       "    </tr>\n",
       "    <tr>\n",
       "      <th>i</th>\n",
       "      <td>spoonbills</td>\n",
       "      <td>8.0</td>\n",
       "      <td>3</td>\n",
       "      <td>0</td>\n",
       "    </tr>\n",
       "    <tr>\n",
       "      <th>j</th>\n",
       "      <td>spoonbills</td>\n",
       "      <td>4.0</td>\n",
       "      <td>2</td>\n",
       "      <td>0</td>\n",
       "    </tr>\n",
       "  </tbody>\n",
       "</table>\n",
       "</div>"
      ],
      "text/plain": [
       "        birds  age  visits  priority\n",
       "a      Cranes  3.5       2         1\n",
       "b      Cranes  4.0       4         1\n",
       "c     plovers  1.5       3         0\n",
       "d  spoonbills  NaN       4         1\n",
       "e  spoonbills  6.0       3         0\n",
       "f      Cranes  3.0       4         0\n",
       "g     plovers  5.5       2         0\n",
       "h      Cranes  NaN       2         1\n",
       "i  spoonbills  8.0       3         0\n",
       "j  spoonbills  4.0       2         0"
      ]
     },
     "execution_count": 27,
     "metadata": {},
     "output_type": "execute_result"
    }
   ],
   "source": [
    "birds['birds'].apply(lambda x: if )"
   ]
  },
  {
   "cell_type": "markdown",
   "id": "afc9c4cd",
   "metadata": {},
   "source": [
    "## Answers:\n",
    "\n",
    "### Setup Code\n",
    "```python\n",
    "import pandas as pd\n",
    "import numpy as np\n",
    "\n",
    "data = {'birds': ['Cranes', 'Cranes', 'plovers', 'spoonbills', 'spoonbills', 'Cranes', 'plovers', 'Cranes', 'spoonbills', 'spoonbills'],\n",
    "        'age': [3.5, 4, 1.5, np.nan, 6, 3, 5.5, np.nan, 8, 4],\n",
    "        'visits': [2, 4, 3, 4, 3, 4, 2, 2, 3, 2],\n",
    "        'priority': ['yes', 'yes', 'no', 'yes', 'no', 'no', 'no', 'yes', 'no', 'no']}\n",
    "\n",
    "labels = ['a', 'b', 'c', 'd', 'e', 'f', 'g', 'h', 'i', 'j']\n",
    "```\n",
    "\n",
    "---\n",
    "\n",
    "### **1. Create a DataFrame birds from this dictionary data which has the index labels.**\n",
    "\n",
    "```python\n",
    "birds = pd.DataFrame(data, index=labels)\n",
    "birds.head()\n",
    "```\n",
    "\n",
    "---\n",
    "\n",
    "### **2. Display a summary of the basic information about birds DataFrame and its data.**\n",
    "\n",
    "```python\n",
    "# Statistical summary\n",
    "birds.describe()\n",
    "\n",
    "# DataFrame information\n",
    "birds.info()\n",
    "```\n",
    "\n",
    "---\n",
    "\n",
    "### **3. Print the first 2 rows of the birds dataframe.**\n",
    "\n",
    "```python\n",
    "birds.head(2)\n",
    "```\n",
    "\n",
    "---\n",
    "\n",
    "### **4. Print all the rows with only 'birds' and 'age' columns from the dataframe**\n",
    "\n",
    "```python\n",
    "birds[['birds', 'age']]\n",
    "```\n",
    "\n",
    "---\n",
    "\n",
    "### **5. Select [2, 3, 7] rows and in columns ['birds', 'age', 'visits']**\n",
    "\n",
    "```python\n",
    "# Method 1: Using iloc (positional indexing)\n",
    "birds.iloc[[2, 3, 7], [0, 1, 2]]\n",
    "\n",
    "# Method 2: Using loc (label-based indexing)\n",
    "birds.loc[['c', 'd', 'h'], ['birds', 'age', 'visits']]\n",
    "```\n",
    "\n",
    "---\n",
    "\n",
    "### **6. Select the rows where the number of visits is less than 4**\n",
    "\n",
    "```python\n",
    "birds[birds['visits'] < 4]\n",
    "```\n",
    "\n",
    "---\n",
    "\n",
    "### **7. Select the rows with columns ['birds', 'visits'] where the age is missing i.e NaN**\n",
    "\n",
    "```python\n",
    "birds.loc[birds['age'].isna(), ['birds', 'visits']]\n",
    "```\n",
    "\n",
    "---\n",
    "\n",
    "### **8. Select the rows where the birds is a Cranes and the age is less than 4**\n",
    "\n",
    "```python\n",
    "birds.loc[(birds['birds'] == 'Cranes') & (birds['age'] < 4)]\n",
    "```\n",
    "\n",
    "---\n",
    "\n",
    "### **9. Select the rows the age is between 2 and 4 (inclusive)**\n",
    "\n",
    "```python\n",
    "birds.loc[birds['age'].between(2, 4)]\n",
    "```\n",
    "\n",
    "---\n",
    "\n",
    "### **10. Find the total number of visits of the bird Cranes**\n",
    "\n",
    "```python\n",
    "# Method 1: Simple filtering and sum\n",
    "birds[birds['birds'] == 'Cranes']['visits'].sum()\n",
    "\n",
    "# Method 2: Using groupby\n",
    "birds.groupby('birds')['visits'].sum()['Cranes']\n",
    "\n",
    "# Method 3: Using groupby with agg\n",
    "birds.groupby('birds').agg(Total_visits=('visits', 'sum')).loc[['Cranes']]\n",
    "```\n",
    "\n",
    "---\n",
    "\n",
    "### **11. Calculate the mean age for each different birds in dataframe.**\n",
    "\n",
    "```python\n",
    "# Method 1: Simple groupby\n",
    "birds.groupby('birds')['age'].mean()\n",
    "\n",
    "# Method 2: Using agg with custom column name\n",
    "birds.groupby('birds').agg(Mean_age=('age', 'mean'))\n",
    "```\n",
    "\n",
    "---\n",
    "\n",
    "### **12. Append a new row 'k' to dataframe with your choice of values for each column. Then delete that row to return the original DataFrame.**\n",
    "\n",
    "```python\n",
    "# Create new row as DataFrame\n",
    "new_row = pd.DataFrame({\n",
    "    'birds': ['eagles'],\n",
    "    'age': [5.0],\n",
    "    'visits': [3],\n",
    "    'priority': ['yes']\n",
    "}, index=['k'])\n",
    "\n",
    "# Append the row\n",
    "birds_with_k = pd.concat([birds, new_row])\n",
    "print(\"After adding row 'k':\")\n",
    "print(birds_with_k)\n",
    "\n",
    "# Delete the row to return to original\n",
    "birds = birds_with_k.drop('k')\n",
    "print(\"\\nAfter removing row 'k':\")\n",
    "print(birds)\n",
    "```\n",
    "\n",
    "---\n",
    "\n",
    "### **13. Find the number of each type of birds in dataframe (Counts)**\n",
    "\n",
    "```python\n",
    "# Method 1: Using value_counts\n",
    "birds['birds'].value_counts()\n",
    "\n",
    "# Method 2: Using groupby().size()\n",
    "birds.groupby('birds').size()\n",
    "\n",
    "# Method 3: Using groupby().count()\n",
    "birds.groupby('birds')['birds'].count()\n",
    "```\n",
    "\n",
    "---\n",
    "\n",
    "### **14. Sort dataframe (birds) first by the values in the 'age' in descending order, then by the value in the 'visits' column in ascending order.**\n",
    "\n",
    "```python\n",
    "birds.sort_values(['age', 'visits'], ascending=[False, True])\n",
    "```\n",
    "\n",
    "---\n",
    "\n",
    "### **15. Replace the priority column values with 'yes' should be 1 and 'no' should be 0**\n",
    "\n",
    "```python\n",
    "# Method 1: Using replace\n",
    "birds['priority'] = birds['priority'].replace({'yes': 1, 'no': 0})\n",
    "\n",
    "# Method 2: Using map\n",
    "birds['priority'] = birds['priority'].map({'yes': 1, 'no': 0})\n",
    "\n",
    "# Method 3: Using lambda with apply\n",
    "birds['priority'] = birds['priority'].apply(lambda x: 1 if x == 'yes' else 0)\n",
    "\n",
    "# Method 4: Using numpy where\n",
    "birds['priority'] = np.where(birds['priority'] == 'yes', 1, 0)\n",
    "```\n",
    "\n",
    "---\n",
    "\n",
    "### **16. In the 'birds' column, change the 'Cranes' entries to 'trumpeters'.**\n",
    "\n",
    "```python\n",
    "# Method 1: Using replace\n",
    "birds['birds'] = birds['birds'].replace('Cranes', 'trumpeters')\n",
    "\n",
    "# Method 2: Using loc with boolean indexing\n",
    "birds.loc[birds['birds'] == 'Cranes', 'birds'] = 'trumpeters'\n",
    "\n",
    "# Method 3: Using apply with lambda\n",
    "birds['birds'] = birds['birds'].apply(lambda x: 'trumpeters' if x == 'Cranes' else x)\n",
    "```\n"
   ]
  }
 ],
 "metadata": {
  "kernelspec": {
   "display_name": "venv",
   "language": "python",
   "name": "python3"
  },
  "language_info": {
   "codemirror_mode": {
    "name": "ipython",
    "version": 3
   },
   "file_extension": ".py",
   "mimetype": "text/x-python",
   "name": "python",
   "nbconvert_exporter": "python",
   "pygments_lexer": "ipython3",
   "version": "3.11.9"
  },
  "papermill": {
   "default_parameters": {},
   "duration": 11.26819,
   "end_time": "2022-08-09T10:16:27.975338",
   "environment_variables": {},
   "exception": null,
   "input_path": "__notebook__.ipynb",
   "output_path": "__notebook__.ipynb",
   "parameters": {},
   "start_time": "2022-08-09T10:16:16.707148",
   "version": "2.3.4"
  }
 },
 "nbformat": 4,
 "nbformat_minor": 5
}
